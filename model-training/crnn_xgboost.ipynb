{
  "cells": [
    {
      "cell_type": "markdown",
      "metadata": {},
      "source": [
        "## 1. Environment Setup \n",
        "### 1.1. Imports"
      ]
    },
    {
      "cell_type": "code",
      "execution_count": 3,
      "metadata": {
        "cellView": "form",
        "id": "18XNxNmM9RhE"
      },
      "outputs": [],
      "source": [
        "import os\n",
        "import numpy as np\n",
        "import pandas as pd\n",
        "import librosa\n",
        "import matplotlib.pyplot as plt\n",
        "import seaborn as sns\n",
        "from tqdm.notebook import tqdm # Using tqdm.notebook for Jupyter/Colab progress bars\n",
        "import time\n",
        "import gc\n",
        "import joblib\n",
        "\n",
        "import tensorflow as tf\n",
        "from tensorflow.keras.models import Model\n",
        "from tensorflow.keras.layers import (Input, Conv2D, BatchNormalization, MaxPooling2D,\n",
        "                                     Reshape, GRU, Dense, Dropout, Bidirectional, Layer, Activation)\n",
        "from tensorflow.keras.callbacks import EarlyStopping, ModelCheckpoint\n",
        "from tensorflow.keras.optimizers.schedules import CosineDecay\n",
        "from tensorflow.keras.regularizers import l2\n",
        "from sklearn.utils import class_weight\n",
        "\n",
        "import xgboost as xgb\n",
        "from xgboost import callback as xgb_callback # For EarlyStopping in XGBoost\n",
        "from sklearn.model_selection import train_test_split, RandomizedSearchCV\n",
        "from sklearn.metrics import classification_report, accuracy_score, confusion_matrix\n",
        "from sklearn.preprocessing import LabelEncoder, StandardScaler"
      ]
    },
    {
      "cell_type": "markdown",
      "metadata": {},
      "source": [
        "### 1.2. Configuration"
      ]
    },
    {
      "cell_type": "code",
      "execution_count": 4,
      "metadata": {
        "cellView": "form",
        "colab": {
          "base_uri": "https://localhost:8080/"
        },
        "id": "InHByhOC9Pef",
        "outputId": "a585b081-bb56-454b-84f0-6668cb6fe3a7"
      },
      "outputs": [
        {
          "name": "stdout",
          "output_type": "stream",
          "text": [
            "Configuration for Method C (Hybrid) is complete.\n"
          ]
        }
      ],
      "source": [
        "\n",
        "# --- Paths (Kaggle Environment) ---\n",
        "BASE_INPUT_DIR = '/content/drive/MyDrive/fma_project/'\n",
        "AUDIO_DIR = os.path.join(BASE_INPUT_DIR, 'fma_small/')\n",
        "METADATA_DIR = os.path.join(BASE_INPUT_DIR, 'fma_metadata/')\n",
        "\n",
        "WORK_DIR = '/content/drive/MyDrive/fma_project/new/сrnn_xgboost/'\n",
        "# Create separate directories for each stage of the hybrid model\n",
        "STAGE1_CACHE_DIR = os.path.join(WORK_DIR, 'hybrid_stage1_cache/')\n",
        "STAGE2_CACHE_DIR = os.path.join(WORK_DIR, 'hybrid_stage2_cache/')\n",
        "os.makedirs(STAGE1_CACHE_DIR, exist_ok=True)\n",
        "os.makedirs(STAGE2_CACHE_DIR, exist_ok=True)\n",
        "\n",
        "# Audio and Feature Parameters\n",
        "SAMPLE_RATE = 22050\n",
        "N_MELS = 128\n",
        "HOP_LENGTH = 512\n",
        "N_FFT = 2048\n",
        "TRACK_DURATION = 29.9\n",
        "\n",
        "# Stage 1: CRNN Parameters\n",
        "CHUNK_DURATION = 2.0\n",
        "SAMPLES_PER_CHUNK = int(SAMPLE_RATE * CHUNK_DURATION)\n",
        "MAX_CHUNKS_PER_TRACK = 10\n",
        "\n",
        "# File Paths\n",
        "CRNN_EXTRACTOR_PATH = os.path.join(WORK_DIR, 'crnn_feature_extractor_final.h5')\n",
        "TRAIN_CHUNK_PATH = os.path.join(STAGE1_CACHE_DIR, 'train_chunks.npz')\n",
        "TEST_CHUNK_PATH = os.path.join(STAGE1_CACHE_DIR, 'test_chunks.npz')\n",
        "\n",
        "TRAIN_FEATURES_PATH = os.path.join(STAGE2_CACHE_DIR, 'train_deep_features.csv')\n",
        "TEST_FEATURES_PATH = os.path.join(STAGE2_CACHE_DIR, 'test_deep_features.csv')\n",
        "XGB_MODEL_PATH = os.path.join(WORK_DIR, 'hybrid_xgboost_model.joblib')\n",
        "SCALER_PATH = os.path.join(WORK_DIR, 'hybrid_feature_scaler.joblib')\n",
        "LABEL_ENCODER_PATH = os.path.join(WORK_DIR, 'hybrid_label_encoder.joblib')\n",
        "\n",
        "print(\"Configuration for Method C (Hybrid) is complete.\")"
      ]
    },
    {
      "cell_type": "markdown",
      "metadata": {},
      "source": [
        "## 2. Data Loading and Preparation"
      ]
    },
    {
      "cell_type": "code",
      "execution_count": 5,
      "metadata": {
        "colab": {
          "base_uri": "https://localhost:8080/"
        },
        "id": "nil1uE8b9N6c",
        "outputId": "42797a65-5343-4373-c030-ca399b5f0081"
      },
      "outputs": [
        {
          "name": "stdout",
          "output_type": "stream",
          "text": [
            "Data split into 6400 training and 1600 testing samples.\n"
          ]
        }
      ],
      "source": [
        "def load_metadata(metadata_dir):\n",
        "    tracks = pd.read_csv(os.path.join(metadata_dir, 'tracks.csv'), index_col=0, header=[0, 1])\n",
        "    tracks.columns = ['_'.join(col).strip() for col in tracks.columns.values]\n",
        "    small_tracks = tracks[tracks['set_subset'] == 'small'].copy()\n",
        "    small_tracks = small_tracks.dropna(subset=['track_genre_top'])\n",
        "    return small_tracks\n",
        "\n",
        "tracks_df = load_metadata(METADATA_DIR)\n",
        "le = LabelEncoder()\n",
        "tracks_df['genre_encoded'] = le.fit_transform(tracks_df['track_genre_top'])\n",
        "joblib.dump(le, LABEL_ENCODER_PATH)\n",
        "train_df, test_df = train_test_split(\n",
        "    tracks_df, test_size=0.2, random_state=42, stratify=tracks_df['genre_encoded']\n",
        ")\n",
        "print(f\"Data split into {len(train_df)} training and {len(test_df)} testing samples.\")"
      ]
    },
    {
      "cell_type": "markdown",
      "metadata": {},
      "source": [
        "## 3. Stage 1: Training the CRNN Feature Extractor\n",
        "### 3.1. Data Preprocessing for Chunks"
      ]
    },
    {
      "cell_type": "code",
      "execution_count": 6,
      "metadata": {
        "cellView": "form",
        "colab": {
          "base_uri": "https://localhost:8080/"
        },
        "collapsed": true,
        "id": "KrD1XNMb9Lce",
        "outputId": "ec8ca5be-e95f-472a-820d-ec0b087df05f"
      },
      "outputs": [
        {
          "name": "stdout",
          "output_type": "stream",
          "text": [
            "Loading cached chunk data from /content/drive/MyDrive/fma_project/new/сrnn_xgboost/hybrid_stage1_cache/train_chunks.npz...\n",
            "Loading cached chunk data from /content/drive/MyDrive/fma_project/new/сrnn_xgboost/hybrid_stage1_cache/test_chunks.npz...\n",
            "\n",
            "Shape of training chunks: (52310, 128, 87, 1)\n",
            "Shape of testing chunks: (13040, 128, 87, 1)\n"
          ]
        }
      ],
      "source": [
        "def preprocess_chunk_data(df, cache_path):\n",
        "    if os.path.exists(cache_path):\n",
        "        print(f\"Loading cached chunk data from {cache_path}...\")\n",
        "        with np.load(cache_path, allow_pickle=True) as data:\n",
        "            if all(key in data for key in ['X', 'y']):\n",
        "                return data['X'], data['y']\n",
        "            else:\n",
        "                print(\"Cache file is incomplete or corrupted. Regenerating dataset...\")\n",
        "\n",
        "    print(f\"Starting balanced chunking of tracks...\")\n",
        "    all_chunks, all_labels = [], []\n",
        "    for track_id, row in tqdm(df.iterrows(), total=len(df), desc=\"Processing tracks into chunks\"):\n",
        "        tid_str = f'{track_id:06d}'\n",
        "        file_path = os.path.join(AUDIO_DIR, tid_str[:3], tid_str + '.mp3')\n",
        "        if not os.path.exists(file_path): continue\n",
        "        try:\n",
        "            signal, sr = librosa.load(file_path, sr=SAMPLE_RATE, duration=TRACK_DURATION, mono=True)\n",
        "            chunks_from_track = []\n",
        "            for i in range(0, len(signal), SAMPLES_PER_CHUNK):\n",
        "                chunk = signal[i:i + SAMPLES_PER_CHUNK]\n",
        "                if len(chunk) == SAMPLES_PER_CHUNK:\n",
        "                    mel_spec = librosa.feature.melspectrogram(y=chunk, sr=sr, n_mels=N_MELS, hop_length=HOP_LENGTH, n_fft=N_FFT)\n",
        "                    db_spec = librosa.power_to_db(mel_spec, ref=np.max)\n",
        "                    chunks_from_track.append(db_spec)\n",
        "\n",
        "            if len(chunks_from_track) > MAX_CHUNKS_PER_TRACK:\n",
        "                indices = np.random.choice(len(chunks_from_track), MAX_CHUNKS_PER_TRACK, replace=False)\n",
        "                selected_chunks = [chunks_from_track[i] for i in indices]\n",
        "            else:\n",
        "                selected_chunks = chunks_from_track\n",
        "\n",
        "            all_chunks.extend(selected_chunks)\n",
        "            all_labels.extend([row['genre_encoded']] * len(selected_chunks))\n",
        "        except Exception as e:\n",
        "            print(f\"\\nError processing file {file_path}: {e}\")\n",
        "\n",
        "    X = np.array(all_chunks, dtype=np.float16)[..., np.newaxis]\n",
        "    y = np.array(all_labels, dtype=np.int32)\n",
        "    print(f\"Saving chunk data to {cache_path}...\")\n",
        "    np.savez_compressed(cache_path, X=X, y=y)\n",
        "    return X, y\n",
        "\n",
        "X_train_chunks, y_train_chunks = preprocess_chunk_data(train_df, TRAIN_CHUNK_PATH)\n",
        "X_test_chunks, y_test_chunks = preprocess_chunk_data(test_df, TEST_CHUNK_PATH)\n",
        "print(f\"\\nShape of training chunks: {X_train_chunks.shape}\")\n",
        "print(f\"Shape of testing chunks: {X_test_chunks.shape}\")"
      ]
    },
    {
      "cell_type": "markdown",
      "metadata": {},
      "source": [
        "### 3.2. CRNN Architecture and Training"
      ]
    },
    {
      "cell_type": "code",
      "execution_count": 7,
      "metadata": {
        "cellView": "form",
        "colab": {
          "base_uri": "https://localhost:8080/"
        },
        "collapsed": true,
        "id": "PcdkQZdR9Ixb",
        "outputId": "60e07960-12d6-4205-a67f-7a1bcf6c207b"
      },
      "outputs": [
        {
          "name": "stdout",
          "output_type": "stream",
          "text": [
            "\n",
            "Starting CRNN feature extractor training/loading...\n",
            "Loading cached CRNN model from /content/drive/MyDrive/fma_project/new/сrnn_xgboost/crnn_feature_extractor_final.h5...\n"
          ]
        },
        {
          "name": "stderr",
          "output_type": "stream",
          "text": [
            "WARNING:absl:Compiled the loaded model, but the compiled metrics have yet to be built. `model.compile_metrics` will be empty until you train or evaluate the model.\n"
          ]
        },
        {
          "name": "stdout",
          "output_type": "stream",
          "text": [
            "CRNN model loaded successfully. Skipping training.\n"
          ]
        },
        {
          "data": {
            "text/plain": [
              "201"
            ]
          },
          "execution_count": 7,
          "metadata": {},
          "output_type": "execute_result"
        }
      ],
      "source": [
        "class SpecAugment(Layer):\n",
        "    def __init__(self, freq_mask_param, time_mask_param, **kwargs):\n",
        "        super(SpecAugment, self).__init__(**kwargs)\n",
        "        self.freq_mask_param = freq_mask_param\n",
        "        self.time_mask_param = time_mask_param\n",
        "    def call(self, inputs, training=None):\n",
        "        if not training: return inputs\n",
        "        input_squeezed = tf.squeeze(inputs, axis=-1)\n",
        "        input_shape = tf.shape(input_squeezed)\n",
        "        batch_size, freq_max, time_max = input_shape[0], input_shape[1], input_shape[2]\n",
        "        f = tf.random.uniform([], 0, self.freq_mask_param, dtype=tf.int32)\n",
        "        f0 = tf.random.uniform([], 0, freq_max - f, dtype=tf.int32)\n",
        "        freq_mask = tf.concat([tf.ones((f0, time_max)), tf.zeros((f, time_max)), tf.ones((freq_max - f0 - f, time_max))], axis=0)\n",
        "        t = tf.random.uniform([], 0, self.time_mask_param, dtype=tf.int32)\n",
        "        t0 = tf.random.uniform([], 0, time_max - t, dtype=tf.int32)\n",
        "        time_mask = tf.concat([tf.ones((freq_max, t0)), tf.zeros((freq_max, t)), tf.ones((freq_max, time_max - t0 - t))], axis=1)\n",
        "        mask = tf.expand_dims(freq_mask * time_mask, -1)\n",
        "        return inputs * tf.cast(mask, dtype=inputs.dtype)\n",
        "\n",
        "def build_crnn_extractor_model(input_shape, num_genres):\n",
        "    l2_reg = 1e-5\n",
        "    crnn_input = Input(shape=input_shape)\n",
        "    x = SpecAugment(freq_mask_param=20, time_mask_param=30)(crnn_input)\n",
        "\n",
        "    for filters in [64, 128, 256]:\n",
        "        x = Conv2D(filters, (3, 3), padding='same', kernel_regularizer=l2(l2_reg))(x)\n",
        "        x = BatchNormalization()(x); x = Activation('relu')(x)\n",
        "        x = Conv2D(filters, (3, 3), padding='same', kernel_regularizer=l2(l2_reg))(x)\n",
        "        x = BatchNormalization()(x); x = Activation('relu')(x)\n",
        "        x = MaxPooling2D((2, 2))(x)\n",
        "        x = Dropout(0.3)(x)\n",
        "    x = Reshape((-1, 256))(x)\n",
        "    gru_output = Bidirectional(GRU(256, return_sequences=False), name=\"gru_embedding\")(x)\n",
        "    x = Dropout(0.5)(gru_output)\n",
        "    outputs = Dense(num_genres, activation='softmax', dtype='float32')(x)\n",
        "    model = Model(inputs=crnn_input, outputs=outputs, name='CRNN_Extractor_v2')\n",
        "    return model\n",
        "\n",
        "print(\"\\nStarting CRNN feature extractor training/loading...\")\n",
        "\n",
        "if os.path.exists(CRNN_EXTRACTOR_PATH):\n",
        "    print(f\"Loading cached CRNN model from {CRNN_EXTRACTOR_PATH}...\")\n",
        "    crnn_model = tf.keras.models.load_model(CRNN_EXTRACTOR_PATH, custom_objects={'SpecAugment': SpecAugment})\n",
        "    print(\"CRNN model loaded successfully. Skipping training.\")\n",
        "else:\n",
        "    print(\"No cached CRNN model found. Starting training...\")\n",
        "    start_time = time.time()\n",
        "\n",
        "    crnn_model = build_crnn_extractor_model(X_train_chunks.shape[1:], len(le.classes_))\n",
        "    crnn_model.compile(optimizer='adam', loss='sparse_categorical_crossentropy', metrics=['accuracy'])\n",
        "    crnn_model.summary()\n",
        "\n",
        "    class_weights = class_weight.compute_class_weight('balanced', classes=np.unique(y_train_chunks), y=y_train_chunks)\n",
        "    class_weights_dict = {i: w for i, w in enumerate(class_weights)}\n",
        "\n",
        "    callbacks = [\n",
        "        EarlyStopping(monitor='val_accuracy', patience=30, restore_best_weights=True, verbose=1),\n",
        "        ModelCheckpoint(CRNN_EXTRACTOR_PATH, monitor='val_accuracy', save_best_only=True, verbose=1)\n",
        "    ]\n",
        "    history_crnn = crnn_model.fit(\n",
        "        X_train_chunks, y_train_chunks,\n",
        "        validation_data=(X_test_chunks, y_test_chunks),\n",
        "        batch_size=128,\n",
        "        epochs=150,\n",
        "        callbacks=callbacks,\n",
        "        class_weight=class_weights_dict\n",
        "    )\n",
        "    training_time = time.time() - start_time\n",
        "    print(f\"CRNN training complete in {training_time:.2f} seconds.\")\n",
        "\n",
        "del X_train_chunks, y_train_chunks, X_test_chunks, y_test_chunks; gc.collect()"
      ]
    },
    {
      "cell_type": "markdown",
      "metadata": {},
      "source": [
        "## 4. Stage 2: Training the XGBoost Classifier\n",
        "### 4.1. Deep Feature Extraction"
      ]
    },
    {
      "cell_type": "code",
      "execution_count": 8,
      "metadata": {
        "cellView": "form",
        "colab": {
          "base_uri": "https://localhost:8080/",
          "height": 775,
          "referenced_widgets": [
            "eab2306c16ae4f20af385dc56018ba4d",
            "4e9b86b0a4c5464e9d7a940b608790a5",
            "ca722d12cc9e4a258e025d0c11af9c8f",
            "f40a9e2ed41f4f05a19dc1a972f4a39d",
            "dd418acf1ba44e81982db05b4f553056",
            "eb12c3c9a2df4091aaf8d67d079a8e93",
            "72d39a53cf774b5da43d729d395912e2",
            "181d4674794c4e1bb8ce027fd6036481",
            "caad7af1d04749d2a6a401bf46e223cc",
            "d8ca9d2965ac4f049b1b1330e6e34d53",
            "6fad60c3ea004279b24c7246eef558ce",
            "799017e8c28f4ceda2bbb8a5dbc29c71",
            "4e5f61af8270453ab3149c6510146519",
            "114446b16a7a43a997a0204ab9ad4bec",
            "18a2db1246bc4466bb64f8d248292191",
            "02add08fa0ac451ea114ad831177b87d",
            "addbb16a2d1946c7b2ce70f71da6e9bf",
            "47a64c4b3fd54a6fbef95c8116310c3d",
            "f780e22b149643dba11bf2a55cb426cc",
            "7182c0e61102470784828f9545033ab5",
            "e3a76e30a57b49ee93efe94bd727fb5c",
            "1292bf098c954749918a2ecf9f41bfe8"
          ]
        },
        "collapsed": true,
        "id": "HIk9jXoI9C8C",
        "outputId": "854e06b5-0e52-49b8-bc56-4e5c01635bc8"
      },
      "outputs": [
        {
          "name": "stdout",
          "output_type": "stream",
          "text": [
            "\n",
            "Loading trained CRNN and creating the encoder...\n"
          ]
        },
        {
          "name": "stderr",
          "output_type": "stream",
          "text": [
            "WARNING:absl:Compiled the loaded model, but the compiled metrics have yet to be built. `model.compile_metrics` will be empty until you train or evaluate the model.\n"
          ]
        },
        {
          "name": "stdout",
          "output_type": "stream",
          "text": [
            "Extracting deep features for 6400 tracks...\n"
          ]
        },
        {
          "data": {
            "application/vnd.jupyter.widget-view+json": {
              "model_id": "eab2306c16ae4f20af385dc56018ba4d",
              "version_major": 2,
              "version_minor": 0
            },
            "text/plain": [
              "Extracting Deep Features:   0%|          | 0/6400 [00:00<?, ?it/s]"
            ]
          },
          "metadata": {},
          "output_type": "display_data"
        },
        {
          "name": "stderr",
          "output_type": "stream",
          "text": [
            "/tmp/ipython-input-8-2771437188.py:28: UserWarning: PySoundFile failed. Trying audioread instead.\n",
            "  signal, sr = librosa.load(file_path, sr=SAMPLE_RATE, duration=TRACK_DURATION, mono=True)\n",
            "/usr/local/lib/python3.11/dist-packages/librosa/core/audio.py:184: FutureWarning: librosa.core.audio.__audioread_load\n",
            "\tDeprecated as of librosa version 0.10.0.\n",
            "\tIt will be removed in librosa version 1.0.\n",
            "  y, sr_native = __audioread_load(path, offset, duration, dtype)\n"
          ]
        },
        {
          "name": "stdout",
          "output_type": "stream",
          "text": [
            "\n",
            "Error extracting features for file /content/drive/MyDrive/fma_project/fma_small/108/108925.mp3: \n"
          ]
        },
        {
          "name": "stderr",
          "output_type": "stream",
          "text": [
            "/tmp/ipython-input-8-2771437188.py:28: UserWarning: PySoundFile failed. Trying audioread instead.\n",
            "  signal, sr = librosa.load(file_path, sr=SAMPLE_RATE, duration=TRACK_DURATION, mono=True)\n",
            "/usr/local/lib/python3.11/dist-packages/librosa/core/audio.py:184: FutureWarning: librosa.core.audio.__audioread_load\n",
            "\tDeprecated as of librosa version 0.10.0.\n",
            "\tIt will be removed in librosa version 1.0.\n",
            "  y, sr_native = __audioread_load(path, offset, duration, dtype)\n",
            "/tmp/ipython-input-8-2771437188.py:28: UserWarning: PySoundFile failed. Trying audioread instead.\n",
            "  signal, sr = librosa.load(file_path, sr=SAMPLE_RATE, duration=TRACK_DURATION, mono=True)\n",
            "/usr/local/lib/python3.11/dist-packages/librosa/core/audio.py:184: FutureWarning: librosa.core.audio.__audioread_load\n",
            "\tDeprecated as of librosa version 0.10.0.\n",
            "\tIt will be removed in librosa version 1.0.\n",
            "  y, sr_native = __audioread_load(path, offset, duration, dtype)\n"
          ]
        },
        {
          "name": "stdout",
          "output_type": "stream",
          "text": [
            "Extracting deep features for 1600 tracks...\n"
          ]
        },
        {
          "data": {
            "application/vnd.jupyter.widget-view+json": {
              "model_id": "799017e8c28f4ceda2bbb8a5dbc29c71",
              "version_major": 2,
              "version_minor": 0
            },
            "text/plain": [
              "Extracting Deep Features:   0%|          | 0/1600 [00:00<?, ?it/s]"
            ]
          },
          "metadata": {},
          "output_type": "display_data"
        },
        {
          "name": "stderr",
          "output_type": "stream",
          "text": [
            "/tmp/ipython-input-8-2771437188.py:28: UserWarning: PySoundFile failed. Trying audioread instead.\n",
            "  signal, sr = librosa.load(file_path, sr=SAMPLE_RATE, duration=TRACK_DURATION, mono=True)\n",
            "/usr/local/lib/python3.11/dist-packages/librosa/core/audio.py:184: FutureWarning: librosa.core.audio.__audioread_load\n",
            "\tDeprecated as of librosa version 0.10.0.\n",
            "\tIt will be removed in librosa version 1.0.\n",
            "  y, sr_native = __audioread_load(path, offset, duration, dtype)\n",
            "/tmp/ipython-input-8-2771437188.py:28: UserWarning: PySoundFile failed. Trying audioread instead.\n",
            "  signal, sr = librosa.load(file_path, sr=SAMPLE_RATE, duration=TRACK_DURATION, mono=True)\n",
            "/usr/local/lib/python3.11/dist-packages/librosa/core/audio.py:184: FutureWarning: librosa.core.audio.__audioread_load\n",
            "\tDeprecated as of librosa version 0.10.0.\n",
            "\tIt will be removed in librosa version 1.0.\n",
            "  y, sr_native = __audioread_load(path, offset, duration, dtype)\n"
          ]
        },
        {
          "name": "stdout",
          "output_type": "stream",
          "text": [
            "\n",
            "Error extracting features for file /content/drive/MyDrive/fma_project/fma_small/099/099134.mp3: \n"
          ]
        },
        {
          "data": {
            "text/plain": [
              "['/content/drive/MyDrive/fma_project/new/сrnn_xgboost/hybrid_feature_scaler.joblib']"
            ]
          },
          "execution_count": 8,
          "metadata": {},
          "output_type": "execute_result"
        }
      ],
      "source": [
        "def extract_deep_features(df, encoder, cache_path):\n",
        "    if os.path.exists(cache_path):\n",
        "        print(f\"Loading cached deep features from {cache_path}...\")\n",
        "        with np.load(cache_path, allow_pickle=True) as data:\n",
        "            if all(key in data for key in ['X', 'y', 'track_ids']):\n",
        "                loaded_features_df = pd.DataFrame(data['X'], index=data['track_ids'])\n",
        "                loaded_labels = data['y']\n",
        "                return loaded_features_df, loaded_labels\n",
        "            else:\n",
        "                print(\"Cache file is incomplete or corrupted. Regenerating dataset...\")\n",
        "\n",
        "    print(f\"Extracting deep features for {len(df)} tracks...\")\n",
        "    track_features = {}\n",
        "\n",
        "    for track_id, row in tqdm(df.iterrows(), total=len(df), desc=\"Extracting Deep Features\"):\n",
        "        tid_str = f'{track_id:06d}'\n",
        "        file_path = os.path.join(AUDIO_DIR, tid_str[:3], tid_str + '.mp3')\n",
        "        if not os.path.exists(file_path): continue\n",
        "        try:\n",
        "            signal, sr = librosa.load(file_path, sr=SAMPLE_RATE, duration=TRACK_DURATION, mono=True)\n",
        "            chunk_specs = []\n",
        "            for i in range(0, len(signal), SAMPLES_PER_CHUNK):\n",
        "                chunk = signal[i:i + SAMPLES_PER_CHUNK]\n",
        "                if len(chunk) == SAMPLES_PER_CHUNK:\n",
        "                    mel_spec = librosa.feature.melspectrogram(y=chunk, sr=sr, n_mels=N_MELS, hop_length=HOP_LENGTH, n_fft=N_FFT)\n",
        "                    db_spec = librosa.power_to_db(mel_spec, ref=np.max)\n",
        "                    chunk_specs.append(db_spec)\n",
        "            if not chunk_specs: continue\n",
        "\n",
        "            chunks_np = np.array(chunk_specs)[..., np.newaxis]\n",
        "            embeddings = encoder.predict(chunks_np, verbose=0, batch_size=64)\n",
        "            track_features[track_id] = np.mean(embeddings, axis=0)\n",
        "        except Exception as e:\n",
        "            print(f\"\\nError extracting features for file {file_path}: {e}\")\n",
        "\n",
        "    features_df = pd.DataFrame.from_dict(track_features, orient='index')\n",
        "    np.savez_compressed(cache_path, X=features_df.values, y=df.loc[features_df.index]['genre_encoded'].values, track_ids=features_df.index.values)\n",
        "    return features_df, df.loc[features_df.index]['genre_encoded']\n",
        "\n",
        "print(\"\\nLoading trained CRNN and creating the encoder...\")\n",
        "\n",
        "crnn_model_for_loading = tf.keras.models.load_model(CRNN_EXTRACTOR_PATH, custom_objects={'SpecAugment': SpecAugment})\n",
        "encoder_output = crnn_model_for_loading.get_layer(\"gru_embedding\").output\n",
        "encoder = Model(inputs=crnn_model_for_loading.input, outputs=encoder_output)\n",
        "del crnn_model_for_loading; gc.collect()\n",
        "\n",
        "X_train_deep_features_df, y_train_deep_features = extract_deep_features(train_df, encoder, TRAIN_FEATURES_PATH)\n",
        "\n",
        "X_test_deep_features_df, y_test_deep_features = extract_deep_features(test_df, encoder, TEST_FEATURES_PATH)\n",
        "\n",
        "scaler = StandardScaler()\n",
        "X_train_scaled = scaler.fit_transform(X_train_deep_features_df)\n",
        "X_test_scaled = scaler.transform(X_test_deep_features_df)\n",
        "joblib.dump(scaler, SCALER_PATH)"
      ]
    },
    {
      "cell_type": "markdown",
      "metadata": {},
      "source": [
        "### 4.2. XGBoost Training"
      ]
    },
    {
      "cell_type": "code",
      "execution_count": 10,
      "metadata": {
        "cellView": "form",
        "colab": {
          "base_uri": "https://localhost:8080/"
        },
        "collapsed": true,
        "id": "hu9jqPt39A6G",
        "outputId": "10173177-5656-4a9f-9334-de11370804f6"
      },
      "outputs": [
        {
          "name": "stdout",
          "output_type": "stream",
          "text": [
            "\n",
            "Training the final XGBoost classifier on deep features...\n"
          ]
        },
        {
          "name": "stderr",
          "output_type": "stream",
          "text": [
            "/usr/local/lib/python3.11/dist-packages/xgboost/core.py:158: UserWarning: [15:35:25] WARNING: /workspace/src/learner.cc:740: \n",
            "Parameters: { \"use_label_encoder\" } are not used.\n",
            "\n",
            "  warnings.warn(smsg, UserWarning)\n"
          ]
        },
        {
          "name": "stdout",
          "output_type": "stream",
          "text": [
            "XGBoost training complete in 310.90 seconds.\n"
          ]
        },
        {
          "data": {
            "text/plain": [
              "['/content/drive/MyDrive/fma_project/new/сrnn_xgboost/hybrid_xgboost_model.joblib']"
            ]
          },
          "execution_count": 10,
          "metadata": {},
          "output_type": "execute_result"
        }
      ],
      "source": [
        "print(\"\\nTraining the final XGBoost classifier on deep features...\")\n",
        "start_time = time.time()\n",
        "\n",
        "xgb_model = xgb.XGBClassifier(\n",
        "    objective='multi:softmax', num_class=len(le.classes_),\n",
        "    n_estimators=2000, learning_rate=0.05, max_depth=5,\n",
        "    subsample=0.8, colsample_bytree=0.8,\n",
        "    use_label_encoder=False, eval_metric='mlogloss',\n",
        "    n_jobs=4, random_state=42\n",
        ")\n",
        "\n",
        "xgb_model.fit(\n",
        "    X_train_scaled, y_train_deep_features,\n",
        "    eval_set=[(X_test_scaled, y_test_deep_features)],\n",
        "    verbose=False\n",
        ")\n",
        "training_time = time.time() - start_time\n",
        "print(f\"XGBoost training complete in {training_time:.2f} seconds.\")\n",
        "joblib.dump(xgb_model, XGB_MODEL_PATH)"
      ]
    },
    {
      "cell_type": "markdown",
      "metadata": {},
      "source": [
        "## 5. Evaluation\n",
        "### 5.1. Final Performance"
      ]
    },
    {
      "cell_type": "code",
      "execution_count": 11,
      "metadata": {
        "cellView": "form",
        "colab": {
          "base_uri": "https://localhost:8080/"
        },
        "id": "ZZ_cRvyh8_dW",
        "outputId": "f15d5806-5ffc-4269-e72b-40a701f5ba75"
      },
      "outputs": [
        {
          "name": "stdout",
          "output_type": "stream",
          "text": [
            "\n",
            "Evaluating Hybrid Model on the test set...\n",
            "--------------------------------------------------\n",
            "Final Test Accuracy (Hybrid Model): 0.6503\n",
            "--------------------------------------------------\n",
            "\n",
            "Classification Report:\n",
            "               precision    recall  f1-score   support\n",
            "\n",
            "   Electronic       0.63      0.73      0.67       175\n",
            " Experimental       0.54      0.53      0.53       168\n",
            "         Folk       0.70      0.71      0.70       167\n",
            "      Hip-Hop       0.79      0.73      0.76       159\n",
            " Instrumental       0.60      0.61      0.60       143\n",
            "International       0.75      0.81      0.78       166\n",
            "          Pop       0.47      0.41      0.44       165\n",
            "         Rock       0.71      0.67      0.69       161\n",
            "\n",
            "     accuracy                           0.65      1304\n",
            "    macro avg       0.65      0.65      0.65      1304\n",
            " weighted avg       0.65      0.65      0.65      1304\n",
            "\n"
          ]
        }
      ],
      "source": [
        "print(\"\\nEvaluating Hybrid Model on the test set...\")\n",
        "y_pred = xgb_model.predict(X_test_scaled)\n",
        "accuracy = accuracy_score(y_test_deep_features, y_pred)\n",
        "print(\"-\" * 50)\n",
        "print(f\"Final Test Accuracy (Hybrid Model): {accuracy:.4f}\")\n",
        "print(\"-\" * 50)\n",
        "print(\"\\nClassification Report:\")\n",
        "print(classification_report(y_test_deep_features, y_pred, target_names=le.classes_))"
      ]
    },
    {
      "cell_type": "markdown",
      "metadata": {},
      "source": [
        "### 5.2. Confusion Matrix "
      ]
    },
    {
      "cell_type": "code",
      "execution_count": 13,
      "metadata": {
        "cellView": "form",
        "colab": {
          "base_uri": "https://localhost:8080/",
          "height": 878
        },
        "id": "GGRzWOHZ8941",
        "outputId": "36eba484-5f92-46f0-a1d6-64ba8d2e97f7"
      },
      "outputs": [
        {
          "data": {
            "image/png": "[encoded data removed]",
            "text/plain": [
              "<Figure size 1200x1000 with 2 Axes>"
            ]
          },
          "metadata": {},
          "output_type": "display_data"
        }
      ],
      "source": [
        "cm = confusion_matrix(y_test_deep_features, y_pred)\n",
        "plt.figure(figsize=(12, 10))\n",
        "sns.heatmap(cm, annot=True, fmt='d', cmap='viridis', xticklabels=le.classes_, yticklabels=le.classes_)\n",
        "\n",
        "plt.title('Hybrid Model (CRNN + XGBoost) Confusion Matrix', fontsize=16)\n",
        "plt.xlabel('Predicted Genre', fontsize=12)\n",
        "plt.ylabel('True Genre', fontsize=12)\n",
        "plt.show()"
      ]
    }
  ],
  "metadata": {
    "accelerator": "GPU",
    "colab": {
      "gpuType": "T4",
      "provenance": []
    },
    "kernelspec": {
      "display_name": "Python 3",
      "name": "python3"
    },
    "language_info": {
      "name": "python"
    },
    "widgets": {
      "application/vnd.jupyter.widget-state+json": {
        "02add08fa0ac451ea114ad831177b87d": {
          "model_module": "@jupyter-widgets/base",
          "model_module_version": "1.2.0",
          "model_name": "LayoutModel",
          "state": {
            "_model_module": "@jupyter-widgets/base",
            "_model_module_version": "1.2.0",
            "_model_name": "LayoutModel",
            "_view_count": null,
            "_view_module": "@jupyter-widgets/base",
            "_view_module_version": "1.2.0",
            "_view_name": "LayoutView",
            "align_content": null,
            "align_items": null,
            "align_self": null,
            "border": null,
            "bottom": null,
            "display": null,
            "flex": null,
            "flex_flow": null,
            "grid_area": null,
            "grid_auto_columns": null,
            "grid_auto_flow": null,
            "grid_auto_rows": null,
            "grid_column": null,
            "grid_gap": null,
            "grid_row": null,
            "grid_template_areas": null,
            "grid_template_columns": null,
            "grid_template_rows": null,
            "height": null,
            "justify_content": null,
            "justify_items": null,
            "left": null,
            "margin": null,
            "max_height": null,
            "max_width": null,
            "min_height": null,
            "min_width": null,
            "object_fit": null,
            "object_position": null,
            "order": null,
            "overflow": null,
            "overflow_x": null,
            "overflow_y": null,
            "padding": null,
            "right": null,
            "top": null,
            "visibility": null,
            "width": null
          }
        },
        "114446b16a7a43a997a0204ab9ad4bec": {
          "model_module": "@jupyter-widgets/controls",
          "model_module_version": "1.5.0",
          "model_name": "FloatProgressModel",
          "state": {
            "_dom_classes": [],
            "_model_module": "@jupyter-widgets/controls",
            "_model_module_version": "1.5.0",
            "_model_name": "FloatProgressModel",
            "_view_count": null,
            "_view_module": "@jupyter-widgets/controls",
            "_view_module_version": "1.5.0",
            "_view_name": "ProgressView",
            "bar_style": "success",
            "description": "",
            "description_tooltip": null,
            "layout": "IPY_MODEL_f780e22b149643dba11bf2a55cb426cc",
            "max": 1600,
            "min": 0,
            "orientation": "horizontal",
            "style": "IPY_MODEL_7182c0e61102470784828f9545033ab5",
            "value": 1600
          }
        },
        "1292bf098c954749918a2ecf9f41bfe8": {
          "model_module": "@jupyter-widgets/controls",
          "model_module_version": "1.5.0",
          "model_name": "DescriptionStyleModel",
          "state": {
            "_model_module": "@jupyter-widgets/controls",
            "_model_module_version": "1.5.0",
            "_model_name": "DescriptionStyleModel",
            "_view_count": null,
            "_view_module": "@jupyter-widgets/base",
            "_view_module_version": "1.2.0",
            "_view_name": "StyleView",
            "description_width": ""
          }
        },
        "181d4674794c4e1bb8ce027fd6036481": {
          "model_module": "@jupyter-widgets/base",
          "model_module_version": "1.2.0",
          "model_name": "LayoutModel",
          "state": {
            "_model_module": "@jupyter-widgets/base",
            "_model_module_version": "1.2.0",
            "_model_name": "LayoutModel",
            "_view_count": null,
            "_view_module": "@jupyter-widgets/base",
            "_view_module_version": "1.2.0",
            "_view_name": "LayoutView",
            "align_content": null,
            "align_items": null,
            "align_self": null,
            "border": null,
            "bottom": null,
            "display": null,
            "flex": null,
            "flex_flow": null,
            "grid_area": null,
            "grid_auto_columns": null,
            "grid_auto_flow": null,
            "grid_auto_rows": null,
            "grid_column": null,
            "grid_gap": null,
            "grid_row": null,
            "grid_template_areas": null,
            "grid_template_columns": null,
            "grid_template_rows": null,
            "height": null,
            "justify_content": null,
            "justify_items": null,
            "left": null,
            "margin": null,
            "max_height": null,
            "max_width": null,
            "min_height": null,
            "min_width": null,
            "object_fit": null,
            "object_position": null,
            "order": null,
            "overflow": null,
            "overflow_x": null,
            "overflow_y": null,
            "padding": null,
            "right": null,
            "top": null,
            "visibility": null,
            "width": null
          }
        },
        "18a2db1246bc4466bb64f8d248292191": {
          "model_module": "@jupyter-widgets/controls",
          "model_module_version": "1.5.0",
          "model_name": "HTMLModel",
          "state": {
            "_dom_classes": [],
            "_model_module": "@jupyter-widgets/controls",
            "_model_module_version": "1.5.0",
            "_model_name": "HTMLModel",
            "_view_count": null,
            "_view_module": "@jupyter-widgets/controls",
            "_view_module_version": "1.5.0",
            "_view_name": "HTMLView",
            "description": "",
            "description_tooltip": null,
            "layout": "IPY_MODEL_e3a76e30a57b49ee93efe94bd727fb5c",
            "placeholder": "​",
            "style": "IPY_MODEL_1292bf098c954749918a2ecf9f41bfe8",
            "value": " 1600/1600 [56:55&lt;00:00,  1.78s/it]"
          }
        },
        "47a64c4b3fd54a6fbef95c8116310c3d": {
          "model_module": "@jupyter-widgets/controls",
          "model_module_version": "1.5.0",
          "model_name": "DescriptionStyleModel",
          "state": {
            "_model_module": "@jupyter-widgets/controls",
            "_model_module_version": "1.5.0",
            "_model_name": "DescriptionStyleModel",
            "_view_count": null,
            "_view_module": "@jupyter-widgets/base",
            "_view_module_version": "1.2.0",
            "_view_name": "StyleView",
            "description_width": ""
          }
        },
        "4e5f61af8270453ab3149c6510146519": {
          "model_module": "@jupyter-widgets/controls",
          "model_module_version": "1.5.0",
          "model_name": "HTMLModel",
          "state": {
            "_dom_classes": [],
            "_model_module": "@jupyter-widgets/controls",
            "_model_module_version": "1.5.0",
            "_model_name": "HTMLModel",
            "_view_count": null,
            "_view_module": "@jupyter-widgets/controls",
            "_view_module_version": "1.5.0",
            "_view_name": "HTMLView",
            "description": "",
            "description_tooltip": null,
            "layout": "IPY_MODEL_addbb16a2d1946c7b2ce70f71da6e9bf",
            "placeholder": "​",
            "style": "IPY_MODEL_47a64c4b3fd54a6fbef95c8116310c3d",
            "value": "Extracting Deep Features: 100%"
          }
        },
        "4e9b86b0a4c5464e9d7a940b608790a5": {
          "model_module": "@jupyter-widgets/controls",
          "model_module_version": "1.5.0",
          "model_name": "HTMLModel",
          "state": {
            "_dom_classes": [],
            "_model_module": "@jupyter-widgets/controls",
            "_model_module_version": "1.5.0",
            "_model_name": "HTMLModel",
            "_view_count": null,
            "_view_module": "@jupyter-widgets/controls",
            "_view_module_version": "1.5.0",
            "_view_name": "HTMLView",
            "description": "",
            "description_tooltip": null,
            "layout": "IPY_MODEL_eb12c3c9a2df4091aaf8d67d079a8e93",
            "placeholder": "​",
            "style": "IPY_MODEL_72d39a53cf774b5da43d729d395912e2",
            "value": "Extracting Deep Features: 100%"
          }
        },
        "6fad60c3ea004279b24c7246eef558ce": {
          "model_module": "@jupyter-widgets/controls",
          "model_module_version": "1.5.0",
          "model_name": "DescriptionStyleModel",
          "state": {
            "_model_module": "@jupyter-widgets/controls",
            "_model_module_version": "1.5.0",
            "_model_name": "DescriptionStyleModel",
            "_view_count": null,
            "_view_module": "@jupyter-widgets/base",
            "_view_module_version": "1.2.0",
            "_view_name": "StyleView",
            "description_width": ""
          }
        },
        "7182c0e61102470784828f9545033ab5": {
          "model_module": "@jupyter-widgets/controls",
          "model_module_version": "1.5.0",
          "model_name": "ProgressStyleModel",
          "state": {
            "_model_module": "@jupyter-widgets/controls",
            "_model_module_version": "1.5.0",
            "_model_name": "ProgressStyleModel",
            "_view_count": null,
            "_view_module": "@jupyter-widgets/base",
            "_view_module_version": "1.2.0",
            "_view_name": "StyleView",
            "bar_color": null,
            "description_width": ""
          }
        },
        "72d39a53cf774b5da43d729d395912e2": {
          "model_module": "@jupyter-widgets/controls",
          "model_module_version": "1.5.0",
          "model_name": "DescriptionStyleModel",
          "state": {
            "_model_module": "@jupyter-widgets/controls",
            "_model_module_version": "1.5.0",
            "_model_name": "DescriptionStyleModel",
            "_view_count": null,
            "_view_module": "@jupyter-widgets/base",
            "_view_module_version": "1.2.0",
            "_view_name": "StyleView",
            "description_width": ""
          }
        },
        "799017e8c28f4ceda2bbb8a5dbc29c71": {
          "model_module": "@jupyter-widgets/controls",
          "model_module_version": "1.5.0",
          "model_name": "HBoxModel",
          "state": {
            "_dom_classes": [],
            "_model_module": "@jupyter-widgets/controls",
            "_model_module_version": "1.5.0",
            "_model_name": "HBoxModel",
            "_view_count": null,
            "_view_module": "@jupyter-widgets/controls",
            "_view_module_version": "1.5.0",
            "_view_name": "HBoxView",
            "box_style": "",
            "children": [
              "IPY_MODEL_4e5f61af8270453ab3149c6510146519",
              "IPY_MODEL_114446b16a7a43a997a0204ab9ad4bec",
              "IPY_MODEL_18a2db1246bc4466bb64f8d248292191"
            ],
            "layout": "IPY_MODEL_02add08fa0ac451ea114ad831177b87d"
          }
        },
        "addbb16a2d1946c7b2ce70f71da6e9bf": {
          "model_module": "@jupyter-widgets/base",
          "model_module_version": "1.2.0",
          "model_name": "LayoutModel",
          "state": {
            "_model_module": "@jupyter-widgets/base",
            "_model_module_version": "1.2.0",
            "_model_name": "LayoutModel",
            "_view_count": null,
            "_view_module": "@jupyter-widgets/base",
            "_view_module_version": "1.2.0",
            "_view_name": "LayoutView",
            "align_content": null,
            "align_items": null,
            "align_self": null,
            "border": null,
            "bottom": null,
            "display": null,
            "flex": null,
            "flex_flow": null,
            "grid_area": null,
            "grid_auto_columns": null,
            "grid_auto_flow": null,
            "grid_auto_rows": null,
            "grid_column": null,
            "grid_gap": null,
            "grid_row": null,
            "grid_template_areas": null,
            "grid_template_columns": null,
            "grid_template_rows": null,
            "height": null,
            "justify_content": null,
            "justify_items": null,
            "left": null,
            "margin": null,
            "max_height": null,
            "max_width": null,
            "min_height": null,
            "min_width": null,
            "object_fit": null,
            "object_position": null,
            "order": null,
            "overflow": null,
            "overflow_x": null,
            "overflow_y": null,
            "padding": null,
            "right": null,
            "top": null,
            "visibility": null,
            "width": null
          }
        },
        "ca722d12cc9e4a258e025d0c11af9c8f": {
          "model_module": "@jupyter-widgets/controls",
          "model_module_version": "1.5.0",
          "model_name": "FloatProgressModel",
          "state": {
            "_dom_classes": [],
            "_model_module": "@jupyter-widgets/controls",
            "_model_module_version": "1.5.0",
            "_model_name": "FloatProgressModel",
            "_view_count": null,
            "_view_module": "@jupyter-widgets/controls",
            "_view_module_version": "1.5.0",
            "_view_name": "ProgressView",
            "bar_style": "success",
            "description": "",
            "description_tooltip": null,
            "layout": "IPY_MODEL_181d4674794c4e1bb8ce027fd6036481",
            "max": 6400,
            "min": 0,
            "orientation": "horizontal",
            "style": "IPY_MODEL_caad7af1d04749d2a6a401bf46e223cc",
            "value": 6400
          }
        },
        "caad7af1d04749d2a6a401bf46e223cc": {
          "model_module": "@jupyter-widgets/controls",
          "model_module_version": "1.5.0",
          "model_name": "ProgressStyleModel",
          "state": {
            "_model_module": "@jupyter-widgets/controls",
            "_model_module_version": "1.5.0",
            "_model_name": "ProgressStyleModel",
            "_view_count": null,
            "_view_module": "@jupyter-widgets/base",
            "_view_module_version": "1.2.0",
            "_view_name": "StyleView",
            "bar_color": null,
            "description_width": ""
          }
        },
        "d8ca9d2965ac4f049b1b1330e6e34d53": {
          "model_module": "@jupyter-widgets/base",
          "model_module_version": "1.2.0",
          "model_name": "LayoutModel",
          "state": {
            "_model_module": "@jupyter-widgets/base",
            "_model_module_version": "1.2.0",
            "_model_name": "LayoutModel",
            "_view_count": null,
            "_view_module": "@jupyter-widgets/base",
            "_view_module_version": "1.2.0",
            "_view_name": "LayoutView",
            "align_content": null,
            "align_items": null,
            "align_self": null,
            "border": null,
            "bottom": null,
            "display": null,
            "flex": null,
            "flex_flow": null,
            "grid_area": null,
            "grid_auto_columns": null,
            "grid_auto_flow": null,
            "grid_auto_rows": null,
            "grid_column": null,
            "grid_gap": null,
            "grid_row": null,
            "grid_template_areas": null,
            "grid_template_columns": null,
            "grid_template_rows": null,
            "height": null,
            "justify_content": null,
            "justify_items": null,
            "left": null,
            "margin": null,
            "max_height": null,
            "max_width": null,
            "min_height": null,
            "min_width": null,
            "object_fit": null,
            "object_position": null,
            "order": null,
            "overflow": null,
            "overflow_x": null,
            "overflow_y": null,
            "padding": null,
            "right": null,
            "top": null,
            "visibility": null,
            "width": null
          }
        },
        "dd418acf1ba44e81982db05b4f553056": {
          "model_module": "@jupyter-widgets/base",
          "model_module_version": "1.2.0",
          "model_name": "LayoutModel",
          "state": {
            "_model_module": "@jupyter-widgets/base",
            "_model_module_version": "1.2.0",
            "_model_name": "LayoutModel",
            "_view_count": null,
            "_view_module": "@jupyter-widgets/base",
            "_view_module_version": "1.2.0",
            "_view_name": "LayoutView",
            "align_content": null,
            "align_items": null,
            "align_self": null,
            "border": null,
            "bottom": null,
            "display": null,
            "flex": null,
            "flex_flow": null,
            "grid_area": null,
            "grid_auto_columns": null,
            "grid_auto_flow": null,
            "grid_auto_rows": null,
            "grid_column": null,
            "grid_gap": null,
            "grid_row": null,
            "grid_template_areas": null,
            "grid_template_columns": null,
            "grid_template_rows": null,
            "height": null,
            "justify_content": null,
            "justify_items": null,
            "left": null,
            "margin": null,
            "max_height": null,
            "max_width": null,
            "min_height": null,
            "min_width": null,
            "object_fit": null,
            "object_position": null,
            "order": null,
            "overflow": null,
            "overflow_x": null,
            "overflow_y": null,
            "padding": null,
            "right": null,
            "top": null,
            "visibility": null,
            "width": null
          }
        },
        "e3a76e30a57b49ee93efe94bd727fb5c": {
          "model_module": "@jupyter-widgets/base",
          "model_module_version": "1.2.0",
          "model_name": "LayoutModel",
          "state": {
            "_model_module": "@jupyter-widgets/base",
            "_model_module_version": "1.2.0",
            "_model_name": "LayoutModel",
            "_view_count": null,
            "_view_module": "@jupyter-widgets/base",
            "_view_module_version": "1.2.0",
            "_view_name": "LayoutView",
            "align_content": null,
            "align_items": null,
            "align_self": null,
            "border": null,
            "bottom": null,
            "display": null,
            "flex": null,
            "flex_flow": null,
            "grid_area": null,
            "grid_auto_columns": null,
            "grid_auto_flow": null,
            "grid_auto_rows": null,
            "grid_column": null,
            "grid_gap": null,
            "grid_row": null,
            "grid_template_areas": null,
            "grid_template_columns": null,
            "grid_template_rows": null,
            "height": null,
            "justify_content": null,
            "justify_items": null,
            "left": null,
            "margin": null,
            "max_height": null,
            "max_width": null,
            "min_height": null,
            "min_width": null,
            "object_fit": null,
            "object_position": null,
            "order": null,
            "overflow": null,
            "overflow_x": null,
            "overflow_y": null,
            "padding": null,
            "right": null,
            "top": null,
            "visibility": null,
            "width": null
          }
        },
        "eab2306c16ae4f20af385dc56018ba4d": {
          "model_module": "@jupyter-widgets/controls",
          "model_module_version": "1.5.0",
          "model_name": "HBoxModel",
          "state": {
            "_dom_classes": [],
            "_model_module": "@jupyter-widgets/controls",
            "_model_module_version": "1.5.0",
            "_model_name": "HBoxModel",
            "_view_count": null,
            "_view_module": "@jupyter-widgets/controls",
            "_view_module_version": "1.5.0",
            "_view_name": "HBoxView",
            "box_style": "",
            "children": [
              "IPY_MODEL_4e9b86b0a4c5464e9d7a940b608790a5",
              "IPY_MODEL_ca722d12cc9e4a258e025d0c11af9c8f",
              "IPY_MODEL_f40a9e2ed41f4f05a19dc1a972f4a39d"
            ],
            "layout": "IPY_MODEL_dd418acf1ba44e81982db05b4f553056"
          }
        },
        "eb12c3c9a2df4091aaf8d67d079a8e93": {
          "model_module": "@jupyter-widgets/base",
          "model_module_version": "1.2.0",
          "model_name": "LayoutModel",
          "state": {
            "_model_module": "@jupyter-widgets/base",
            "_model_module_version": "1.2.0",
            "_model_name": "LayoutModel",
            "_view_count": null,
            "_view_module": "@jupyter-widgets/base",
            "_view_module_version": "1.2.0",
            "_view_name": "LayoutView",
            "align_content": null,
            "align_items": null,
            "align_self": null,
            "border": null,
            "bottom": null,
            "display": null,
            "flex": null,
            "flex_flow": null,
            "grid_area": null,
            "grid_auto_columns": null,
            "grid_auto_flow": null,
            "grid_auto_rows": null,
            "grid_column": null,
            "grid_gap": null,
            "grid_row": null,
            "grid_template_areas": null,
            "grid_template_columns": null,
            "grid_template_rows": null,
            "height": null,
            "justify_content": null,
            "justify_items": null,
            "left": null,
            "margin": null,
            "max_height": null,
            "max_width": null,
            "min_height": null,
            "min_width": null,
            "object_fit": null,
            "object_position": null,
            "order": null,
            "overflow": null,
            "overflow_x": null,
            "overflow_y": null,
            "padding": null,
            "right": null,
            "top": null,
            "visibility": null,
            "width": null
          }
        },
        "f40a9e2ed41f4f05a19dc1a972f4a39d": {
          "model_module": "@jupyter-widgets/controls",
          "model_module_version": "1.5.0",
          "model_name": "HTMLModel",
          "state": {
            "_dom_classes": [],
            "_model_module": "@jupyter-widgets/controls",
            "_model_module_version": "1.5.0",
            "_model_name": "HTMLModel",
            "_view_count": null,
            "_view_module": "@jupyter-widgets/controls",
            "_view_module_version": "1.5.0",
            "_view_name": "HTMLView",
            "description": "",
            "description_tooltip": null,
            "layout": "IPY_MODEL_d8ca9d2965ac4f049b1b1330e6e34d53",
            "placeholder": "​",
            "style": "IPY_MODEL_6fad60c3ea004279b24c7246eef558ce",
            "value": " 6400/6400 [3:44:27&lt;00:00,  1.94s/it]"
          }
        },
        "f780e22b149643dba11bf2a55cb426cc": {
          "model_module": "@jupyter-widgets/base",
          "model_module_version": "1.2.0",
          "model_name": "LayoutModel",
          "state": {
            "_model_module": "@jupyter-widgets/base",
            "_model_module_version": "1.2.0",
            "_model_name": "LayoutModel",
            "_view_count": null,
            "_view_module": "@jupyter-widgets/base",
            "_view_module_version": "1.2.0",
            "_view_name": "LayoutView",
            "align_content": null,
            "align_items": null,
            "align_self": null,
            "border": null,
            "bottom": null,
            "display": null,
            "flex": null,
            "flex_flow": null,
            "grid_area": null,
            "grid_auto_columns": null,
            "grid_auto_flow": null,
            "grid_auto_rows": null,
            "grid_column": null,
            "grid_gap": null,
            "grid_row": null,
            "grid_template_areas": null,
            "grid_template_columns": null,
            "grid_template_rows": null,
            "height": null,
            "justify_content": null,
            "justify_items": null,
            "left": null,
            "margin": null,
            "max_height": null,
            "max_width": null,
            "min_height": null,
            "min_width": null,
            "object_fit": null,
            "object_position": null,
            "order": null,
            "overflow": null,
            "overflow_x": null,
            "overflow_y": null,
            "padding": null,
            "right": null,
            "top": null,
            "visibility": null,
            "width": null
          }
        }
      }
    }
  },
  "nbformat": 4,
  "nbformat_minor": 0
}
