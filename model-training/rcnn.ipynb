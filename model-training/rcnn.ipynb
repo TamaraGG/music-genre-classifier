{
  "cells": [
    {
      "cell_type": "markdown",
      "metadata": {},
      "source": [
        "## 1. Environment Setup\n",
        "### 1.1. Imports"
      ]
    },
    {
      "cell_type": "code",
      "execution_count": 3,
      "metadata": {
        "id": "p_EnEyOQ_5_T"
      },
      "outputs": [],
      "source": [
        "import os\n",
        "import numpy as np\n",
        "import pandas as pd\n",
        "import librosa\n",
        "import librosa.display\n",
        "import matplotlib.pyplot as plt\n",
        "import seaborn as sns\n",
        "from tqdm.notebook import tqdm\n",
        "import time\n",
        "import gc\n",
        "import joblib\n",
        "\n",
        "import tensorflow as tf\n",
        "from tensorflow.keras.models import Model\n",
        "from tensorflow.keras.layers import (Input, Conv2D, BatchNormalization, MaxPooling2D,\n",
        "                                     Reshape, GRU, Dense, Dropout, Bidirectional, Layer, Activation)\n",
        "from tensorflow.keras.callbacks import EarlyStopping, ModelCheckpoint\n",
        "from tensorflow.keras.optimizers.schedules import CosineDecay\n",
        "from tensorflow.keras.regularizers import l2\n",
        "\n",
        "from sklearn.model_selection import train_test_split\n",
        "from sklearn.metrics import classification_report, accuracy_score, confusion_matrix\n",
        "from sklearn.preprocessing import LabelEncoder"
      ]
    },
    {
      "cell_type": "markdown",
      "metadata": {},
      "source": [
        "### 1.2. Configuration"
      ]
    },
    {
      "cell_type": "code",
      "execution_count": 4,
      "metadata": {
        "colab": {
          "base_uri": "https://localhost:8080/"
        },
        "id": "1U1Qpr1f_8OT",
        "outputId": "6d98db7c-2b93-4bc4-fd7e-caa22bbff261"
      },
      "outputs": [
        {
          "name": "stdout",
          "output_type": "stream",
          "text": [
            "Configuration for Method B (CRNN) is complete.\n"
          ]
        }
      ],
      "source": [
        "BASE_INPUT_DIR = '/content/drive/MyDrive/fma_project/'\n",
        "AUDIO_DIR = os.path.join(BASE_INPUT_DIR, 'fma_small/')\n",
        "METADATA_DIR = os.path.join(BASE_INPUT_DIR, 'fma_metadata/')\n",
        "\n",
        "WORK_DIR = '/content/drive/MyDrive/fma_project/new/rcnn/'\n",
        "CACHE_DIR = os.path.join(WORK_DIR, 'crnn_cache_final/')\n",
        "os.makedirs(CACHE_DIR, exist_ok=True)\n",
        "\n",
        "# Audio and Spectrogram Parameters\n",
        "SAMPLE_RATE = 22050\n",
        "TRACK_DURATION = 30.0\n",
        "N_MELS = 128\n",
        "HOP_LENGTH = 512\n",
        "N_FFT = 2048\n",
        "\n",
        "# CRNN Model Parameters\n",
        "SEGMENT_DURATION = 5.0\n",
        "SAMPLES_PER_SEGMENT = int(SAMPLE_RATE * SEGMENT_DURATION)\n",
        "SEGMENTS_PER_TRACK = int(TRACK_DURATION // SEGMENT_DURATION)\n",
        "\n",
        "# File Paths\n",
        "TRAIN_DATA_PATH = os.path.join(CACHE_DIR, 'train_spectrograms.npz')\n",
        "TEST_DATA_PATH = os.path.join(CACHE_DIR, 'test_spectrograms.npz')\n",
        "MODEL_PATH = os.path.join(WORK_DIR, 'crnn_model_final.h5')\n",
        "LABEL_ENCODER_PATH = os.path.join(WORK_DIR, 'crnn_label_encoder.joblib')\n",
        "\n",
        "print(\"Configuration for Method B (CRNN) is complete.\")"
      ]
    },
    {
      "cell_type": "markdown",
      "metadata": {},
      "source": [
        "## 2. Data Loading and Preparation"
      ]
    },
    {
      "cell_type": "code",
      "execution_count": 5,
      "metadata": {
        "colab": {
          "base_uri": "https://localhost:8080/"
        },
        "id": "AdVOnVJa_-Ly",
        "outputId": "7cd11d03-c003-45dc-ead0-5dcafbd55ffd"
      },
      "outputs": [
        {
          "name": "stdout",
          "output_type": "stream",
          "text": [
            "Data split into 6400 training and 1600 testing samples.\n"
          ]
        }
      ],
      "source": [
        "def load_metadata(metadata_dir):\n",
        "    tracks = pd.read_csv(os.path.join(metadata_dir, 'tracks.csv'), index_col=0, header=[0, 1])\n",
        "    tracks.columns = ['_'.join(col).strip() for col in tracks.columns.values]\n",
        "    small_tracks = tracks[tracks['set_subset'] == 'small'].copy()\n",
        "    small_tracks = small_tracks.dropna(subset=['track_genre_top'])\n",
        "    return small_tracks\n",
        "\n",
        "tracks_df = load_metadata(METADATA_DIR)\n",
        "le = LabelEncoder()\n",
        "tracks_df['genre_encoded'] = le.fit_transform(tracks_df['track_genre_top'])\n",
        "joblib.dump(le, LABEL_ENCODER_PATH)\n",
        "train_df_full, test_df = train_test_split(\n",
        "    tracks_df, test_size=0.2, random_state=42, stratify=tracks_df['genre_encoded']\n",
        ")\n",
        "print(f\"Data split into {len(train_df_full)} training and {len(test_df)} testing samples.\")"
      ]
    },
    {
      "cell_type": "markdown",
      "metadata": {},
      "source": [
        "## 3. Data Preprocessing for CRNN\n",
        "### 3.1. Spectrogram Extraction"
      ]
    },
    {
      "cell_type": "code",
      "execution_count": 6,
      "metadata": {
        "colab": {
          "base_uri": "https://localhost:8080/"
        },
        "collapsed": true,
        "id": "Xk7BwiusAAod",
        "outputId": "ac15b6db-9d1d-4fde-c555-22fef0002abb"
      },
      "outputs": [
        {
          "name": "stdout",
          "output_type": "stream",
          "text": [
            "Loading cached spectrograms from /content/drive/MyDrive/fma_project/new/rcnn/crnn_cache_final/train_spectrograms.npz...\n",
            "Loading cached spectrograms from /content/drive/MyDrive/fma_project/new/rcnn/crnn_cache_final/test_spectrograms.npz...\n"
          ]
        }
      ],
      "source": [
        "def create_spectrogram_dataset(df, cache_path):\n",
        "    if os.path.exists(cache_path):\n",
        "        print(f\"Loading cached spectrograms from {cache_path}...\")\n",
        "        with np.load(cache_path, allow_pickle=True) as data:\n",
        "            if all(key in data for key in ['X', 'y', 'track_ids']):\n",
        "                return data['X'], data['y'], data['track_ids']\n",
        "            else:\n",
        "                print(\"Cache file is incomplete. Regenerating dataset...\")\n",
        "\n",
        "    print(\"Creating spectrogram segments...\")\n",
        "    all_segments, all_labels, all_track_ids = [], [], []\n",
        "\n",
        "    for track_id, row in tqdm(df.iterrows(), total=len(df), desc=\"Processing Tracks\"):\n",
        "        tid_str = f'{track_id:06d}'\n",
        "        file_path = os.path.join(AUDIO_DIR, tid_str[:3], tid_str + '.mp3')\n",
        "        if not os.path.exists(file_path): continue\n",
        "\n",
        "        try:\n",
        "            y, sr = librosa.load(file_path, sr=SAMPLE_RATE, duration=TRACK_DURATION, mono=True)\n",
        "            if len(y) < int(TRACK_DURATION * sr):\n",
        "                y = librosa.util.fix_length(y, size=int(TRACK_DURATION * sr))\n",
        "\n",
        "            for i in range(SEGMENTS_PER_TRACK):\n",
        "                segment = y[i*SAMPLES_PER_SEGMENT : (i+1)*SAMPLES_PER_SEGMENT]\n",
        "                mel_spec = librosa.feature.melspectrogram(y=segment, sr=sr, n_mels=N_MELS, hop_length=HOP_LENGTH, n_fft=N_FFT)\n",
        "                db_spec = librosa.power_to_db(mel_spec, ref=np.max)\n",
        "                all_segments.append(db_spec)\n",
        "                all_labels.append(row['genre_encoded'])\n",
        "                all_track_ids.append(track_id)\n",
        "        except Exception as e:\n",
        "            print(f\"Skipping corrupted file {file_path}: {e}\")\n",
        "\n",
        "    X = np.array(all_segments, dtype=np.float16)[..., np.newaxis]\n",
        "    y = np.array(all_labels, dtype=np.int32)\n",
        "    track_ids = np.array(all_track_ids)\n",
        "\n",
        "    print(f\"Saving spectrograms to {cache_path}...\")\n",
        "    np.savez_compressed(cache_path, X=X, y=y, track_ids=track_ids)\n",
        "    return X, y, track_ids\n",
        "\n",
        "X_train_all, y_train_all, track_ids_train_all = create_spectrogram_dataset(train_df_full, TRAIN_DATA_PATH)\n",
        "X_test, y_test, track_ids_test = create_spectrogram_dataset(test_df, TEST_DATA_PATH)"
      ]
    },
    {
      "cell_type": "markdown",
      "metadata": {},
      "source": [
        "### 3.2. Balancing the Training Data"
      ]
    },
    {
      "cell_type": "code",
      "execution_count": 7,
      "metadata": {
        "colab": {
          "base_uri": "https://localhost:8080/"
        },
        "collapsed": true,
        "id": "RhGiGSNKAC6b",
        "outputId": "559a2a30-687b-43e8-8180-a604c9e5fb12"
      },
      "outputs": [
        {
          "name": "stdout",
          "output_type": "stream",
          "text": [
            "\n",
            "Original training segments: 31398 | Balanced training segments: 27024\n"
          ]
        },
        {
          "data": {
            "text/plain": [
              "66"
            ]
          },
          "execution_count": 7,
          "metadata": {},
          "output_type": "execute_result"
        }
      ],
      "source": [
        "processed_train_df = pd.DataFrame({'track_id': track_ids_train_all}).drop_duplicates().set_index('track_id')\n",
        "processed_train_df = processed_train_df.join(train_df_full['genre_encoded'])\n",
        "\n",
        "genre_counts = processed_train_df['genre_encoded'].value_counts()\n",
        "min_count = genre_counts.min()\n",
        "\n",
        "balanced_track_ids = processed_train_df.groupby('genre_encoded').sample(n=min_count, random_state=42).index\n",
        "train_indices = np.where(np.isin(track_ids_train_all, balanced_track_ids))[0]\n",
        "X_train = X_train_all[train_indices]\n",
        "y_train = y_train_all[train_indices]\n",
        "\n",
        "print(f\"\\nOriginal training segments: {len(X_train_all)} | Balanced training segments: {len(X_train)}\")\n",
        "del X_train_all, y_train_all, track_ids_train_all; gc.collect()"
      ]
    },
    {
      "cell_type": "markdown",
      "metadata": {},
      "source": [
        "## 4. CRNN Model Implementation\n",
        "### 4.1. SpecAugment Layer\n"
      ]
    },
    {
      "cell_type": "code",
      "execution_count": 8,
      "metadata": {
        "id": "rZ-kkM0BAE3x"
      },
      "outputs": [],
      "source": [
        "class SpecAugment(Layer):\n",
        "    def __init__(self, freq_mask_param, time_mask_param, **kwargs):\n",
        "        super(SpecAugment, self).__init__(**kwargs)\n",
        "        self.freq_mask_param = freq_mask_param\n",
        "        self.time_mask_param = time_mask_param\n",
        "    def call(self, inputs, training=None):\n",
        "        if not training: return inputs\n",
        "        input_squeezed = tf.squeeze(inputs, axis=-1)\n",
        "        input_shape = tf.shape(input_squeezed)\n",
        "        batch_size, freq_max, time_max = input_shape[0], input_shape[1], input_shape[2]\n",
        "        # Freq Mask\n",
        "        f = tf.random.uniform([], 0, self.freq_mask_param, dtype=tf.int32)\n",
        "        f0 = tf.random.uniform([], 0, freq_max - f, dtype=tf.int32)\n",
        "        freq_mask = tf.concat([tf.ones((f0, time_max)), tf.zeros((f, time_max)), tf.ones((freq_max - f0 - f, time_max))], axis=0)\n",
        "        # Time Mask\n",
        "        t = tf.random.uniform([], 0, self.time_mask_param, dtype=tf.int32)\n",
        "        t0 = tf.random.uniform([], 0, time_max - t, dtype=tf.int32)\n",
        "        time_mask = tf.concat([tf.ones((freq_max, t0)), tf.zeros((freq_max, t)), tf.ones((freq_max, time_max - t0 - t))], axis=1)\n",
        "        mask = tf.expand_dims(freq_mask * time_mask, -1)\n",
        "        return inputs * tf.cast(mask, dtype=inputs.dtype)"
      ]
    },
    {
      "cell_type": "markdown",
      "metadata": {},
      "source": [
        "### 4.2. CRNN Architecture"
      ]
    },
    {
      "cell_type": "code",
      "execution_count": 14,
      "metadata": {
        "id": "1GLJKfvqAHE_"
      },
      "outputs": [],
      "source": [
        "def build_crnn_model(input_shape, num_genres):\n",
        "    l2_reg = 5e-6\n",
        "    crnn_input = Input(shape=input_shape)\n",
        "    x = SpecAugment(freq_mask_param=25, time_mask_param=35)(crnn_input)\n",
        "\n",
        "    for filters in [64, 128, 256]:\n",
        "        x = Conv2D(filters, (3, 3), padding='same', kernel_regularizer=l2(l2_reg))(x)\n",
        "        x = BatchNormalization()(x); x = Activation('relu')(x)\n",
        "        x = Conv2D(filters, (3, 3), padding='same', kernel_regularizer=l2(l2_reg))(x)\n",
        "        x = BatchNormalization()(x); x = Activation('relu')(x)\n",
        "        x = MaxPooling2D((2, 2))(x)\n",
        "        x = Dropout(0.4)(x)\n",
        "\n",
        "    x = Reshape((-1, 256))(x)\n",
        "\n",
        "    gru_output = Bidirectional(GRU(128, return_sequences=False))(x)\n",
        "\n",
        "    x = Dropout(0.5)(gru_output)\n",
        "    outputs = Dense(num_genres, activation='softmax', dtype='float32')(x)\n",
        "\n",
        "    model = Model(inputs=crnn_input, outputs=outputs, name='CRNN_Model_v5')\n",
        "    return model\n",
        "\n",
        "num_genres = len(le.classes_)"
      ]
    },
    {
      "cell_type": "markdown",
      "metadata": {},
      "source": [
        "### 4.3. Model Training"
      ]
    },
    {
      "cell_type": "code",
      "execution_count": 16,
      "metadata": {
        "colab": {
          "base_uri": "https://localhost:8080/"
        },
        "id": "uBZmtqxZAKV_",
        "outputId": "6cf3f877-485b-4a3f-97c6-8cdbc58e22a7"
      },
      "outputs": [
        {
          "name": "stdout",
          "output_type": "stream",
          "text": [
            "\n",
            "Training CRNN model...\n",
            "Model file found at '/content/drive/MyDrive/fma_project/new/rcnn/crnn_model_final.h5'. Loading pre-trained model...\n"
          ]
        },
        {
          "name": "stderr",
          "output_type": "stream",
          "text": [
            "WARNING:absl:Compiled the loaded model, but the compiled metrics have yet to be built. `model.compile_metrics` will be empty until you train or evaluate the model.\n"
          ]
        },
        {
          "name": "stdout",
          "output_type": "stream",
          "text": [
            "Model loaded successfully. Skipping training phase.\n"
          ]
        }
      ],
      "source": [
        "print(\"\\nTraining CRNN model...\")\n",
        "start_time = time.time()\n",
        "\n",
        "if os.path.exists(MODEL_PATH):\n",
        "    print(f\"Model file found at '{MODEL_PATH}'. Loading pre-trained model...\")\n",
        "    crnn_model = tf.keras.models.load_model(MODEL_PATH, custom_objects={'SpecAugment': SpecAugment})\n",
        "    print(\"Model loaded successfully. Skipping training phase.\")\n",
        "    training_time = 0.0\n",
        "    history = None\n",
        "else:\n",
        "    print(f\"No model file found at '{MODEL_PATH}'. Starting new training...\")\n",
        "    input_shape = X_train.shape[1:]\n",
        "\n",
        "    crnn_model = build_crnn_model(input_shape, num_genres)\n",
        "\n",
        "    total_steps = (len(X_train) // 64) * 200\n",
        "    lr_schedule = CosineDecay(initial_learning_rate=1e-3, decay_steps=total_steps, alpha=1e-6)\n",
        "    optimizer = tf.keras.optimizers.Adam(learning_rate=lr_schedule)\n",
        "\n",
        "    crnn_model.compile(optimizer=optimizer, loss='sparse_categorical_crossentropy', metrics=['accuracy'])\n",
        "    crnn_model.summary()\n",
        "\n",
        "    callbacks = [\n",
        "        EarlyStopping(monitor='val_loss', patience=40, verbose=1, restore_best_weights=True),\n",
        "        ModelCheckpoint(MODEL_PATH, monitor='val_accuracy', save_best_only=True, verbose=1)\n",
        "    ]\n",
        "\n",
        "    history = crnn_model.fit(\n",
        "        X_train, y_train,\n",
        "        validation_data=(X_test, y_test),\n",
        "        batch_size=64,\n",
        "        epochs=200,\n",
        "        callbacks=callbacks\n",
        "    )\n",
        "    training_time = time.time() - start_time\n",
        "    print(f\"CRNN training complete in {training_time:.2f} seconds.\")"
      ]
    },
    {
      "cell_type": "markdown",
      "metadata": {},
      "source": [
        "## 5. Evaluation\n",
        "### 5.1. Prediction Aggregation"
      ]
    },
    {
      "cell_type": "code",
      "execution_count": 17,
      "metadata": {
        "colab": {
          "base_uri": "https://localhost:8080/"
        },
        "id": "MQsWaqixAK17",
        "outputId": "aba64b6f-c480-4fe4-f3ab-d1662fc2f7f1"
      },
      "outputs": [
        {
          "name": "stdout",
          "output_type": "stream",
          "text": [
            "\u001b[1m62/62\u001b[0m \u001b[32m━━━━━━━━━━━━━━━━━━━━\u001b[0m\u001b[37m\u001b[0m \u001b[1m1395s\u001b[0m 22s/step\n"
          ]
        }
      ],
      "source": [
        "segment_preds = crnn_model.predict(X_test, batch_size=128)\n",
        "\n",
        "test_results = pd.DataFrame({\n",
        "    'track_id': track_ids_test,\n",
        "    'true_label': y_test\n",
        "})\n",
        "\n",
        "for i, genre in enumerate(le.classes_):\n",
        "    test_results[f'pred_prob_{i}'] = segment_preds[:, i]\n",
        "\n",
        "track_level_preds = test_results.groupby('track_id').mean()\n",
        "y_pred_final = np.argmax(track_level_preds[[f'pred_prob_{i}' for i in range(num_genres)]].values, axis=1)\n",
        "y_true_final = track_level_preds['true_label'].astype(int)"
      ]
    },
    {
      "cell_type": "markdown",
      "metadata": {},
      "source": [
        "### 5.2. Final Performance"
      ]
    },
    {
      "cell_type": "code",
      "execution_count": 18,
      "metadata": {
        "colab": {
          "base_uri": "https://localhost:8080/"
        },
        "id": "lx00_XUdANCP",
        "outputId": "e459e01a-bea0-4587-e2cd-5d54c31725e0"
      },
      "outputs": [
        {
          "name": "stdout",
          "output_type": "stream",
          "text": [
            "--------------------------------------------------\n",
            "Final CRNN Model Performance (Track-Level)\n",
            "--------------------------------------------------\n",
            "Final Test Accuracy: 0.6146\n",
            "\n",
            "Classification Report:\n",
            "               precision    recall  f1-score   support\n",
            "\n",
            "   Electronic       0.68      0.70      0.69       175\n",
            " Experimental       0.50      0.47      0.48       168\n",
            "         Folk       0.67      0.77      0.71       167\n",
            "      Hip-Hop       0.77      0.71      0.74       160\n",
            " Instrumental       0.52      0.64      0.57       143\n",
            "International       0.68      0.75      0.71       166\n",
            "          Pop       0.42      0.21      0.28       165\n",
            "         Rock       0.59      0.68      0.63       161\n",
            "\n",
            "     accuracy                           0.61      1305\n",
            "    macro avg       0.60      0.61      0.60      1305\n",
            " weighted avg       0.60      0.61      0.60      1305\n",
            "\n"
          ]
        }
      ],
      "source": [
        "print(\"-\" * 50)\n",
        "print(\"Final CRNN Model Performance (Track-Level)\")\n",
        "print(\"-\" * 50)\n",
        "accuracy = accuracy_score(y_true_final, y_pred_final)\n",
        "print(f\"Final Test Accuracy: {accuracy:.4f}\")\n",
        "print(\"\\nClassification Report:\")\n",
        "print(classification_report(y_true_final, y_pred_final, target_names=le.classes_))"
      ]
    },
    {
      "cell_type": "markdown",
      "metadata": {},
      "source": [
        "### 5.3. Confusion Matrix"
      ]
    },
    {
      "cell_type": "code",
      "execution_count": 19,
      "metadata": {
        "colab": {
          "base_uri": "https://localhost:8080/",
          "height": 878
        },
        "id": "ndQdl2-GAPTV",
        "outputId": "d9729a55-3ac7-49b9-bcde-bb48bae6aa21"
      },
      "outputs": [
        {
          "data": {
            "image/png": "[encoded data removed]",
            "text/plain": [
              "<Figure size 1200x1000 with 2 Axes>"
            ]
          },
          "metadata": {},
          "output_type": "display_data"
        }
      ],
      "source": [
        "cm = confusion_matrix(y_true_final, y_pred_final)\n",
        "plt.figure(figsize=(12, 10))\n",
        "sns.heatmap(cm, annot=True, fmt='d', cmap='plasma', xticklabels=le.classes_, yticklabels=le.classes_)\n",
        "plt.title('CRNN Confusion Matrix (Track-Level)', fontsize=16)\n",
        "plt.xlabel('Predicted Genre', fontsize=12)\n",
        "plt.ylabel('True Genre', fontsize=12)\n",
        "plt.show()"
      ]
    }
  ],
  "metadata": {
    "accelerator": "GPU",
    "colab": {
      "gpuType": "T4",
      "provenance": []
    },
    "kernelspec": {
      "display_name": "Python 3",
      "name": "python3"
    },
    "language_info": {
      "name": "python"
    }
  },
  "nbformat": 4,
  "nbformat_minor": 0
}
